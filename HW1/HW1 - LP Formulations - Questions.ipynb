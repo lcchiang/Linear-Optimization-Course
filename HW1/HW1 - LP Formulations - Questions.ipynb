{
 "cells": [
  {
   "cell_type": "markdown",
   "metadata": {},
   "source": [
    "## HW1 - LP Formulations\n",
    "\n",
    "In this first homework assignment we will work on 5 different LP forumulations in Gurobi. For each of them, a skeleton python code is provided, and you are tasked with filling in some additional bits and piecees. As a little help, the output of each cell is what it should be if you fill in the right code in each cell (where it is currently missing)."
   ]
  },
  {
   "cell_type": "code",
   "execution_count": 2,
   "metadata": {},
   "outputs": [],
   "source": [
    "import gurobipy as gp"
   ]
  },
  {
   "cell_type": "markdown",
   "metadata": {},
   "source": [
    "### Problem 1\n",
    "\n",
    "Problem 1 in this assignment is a \"classical first linear programming problem\": a diet optimization problem. We are given different types of food, that each come with a (financial) cost and with nutritional information (amount of calories, protein, fat, and sodium). In addition, we are told in what limits our nutritional intake should be for each of the nutrients (e.g., at least 91g of protein).\n",
    "\n",
    "Below, I will walk you through the optimization problem that aims to minimize the financial cost of the food items we consume whilst guaranteeing that we are within the limits of calories,protein, fat, and sodium."
   ]
  },
  {
   "cell_type": "code",
   "execution_count": 2,
   "metadata": {},
   "outputs": [],
   "source": [
    "# This first cell just defines the different nutrients, the healthy limits \n",
    "# of each nutrient, and the cost/nutrients of each food item.\n",
    "\n",
    "categories, minNutrition, maxNutrition = gp.multidict({\n",
    "    'calories': [1800, 2200],\n",
    "    'protein':  [91, gp.GRB.INFINITY],\n",
    "    'fat':      [0, 65],\n",
    "    'sodium':   [0, 1779]})\n",
    "\n",
    "foods, cost = gp.multidict({\n",
    "    'hamburger': 2.49,\n",
    "    'chicken':   2.89,\n",
    "    'hot dog':   1.50,\n",
    "    'fries':     1.89,\n",
    "    'macaroni':  2.09,\n",
    "    'pizza':     1.99,\n",
    "    'salad':     2.49,\n",
    "    'milk':      0.89,\n",
    "    'ice cream': 1.59})\n",
    "\n",
    "# Nutrition values for the foods\n",
    "nutritionValues = {\n",
    "    ('hamburger', 'calories'): 410,\n",
    "    ('hamburger', 'protein'):  24,\n",
    "    ('hamburger', 'fat'):      26,\n",
    "    ('hamburger', 'sodium'):   730,\n",
    "    ('chicken',   'calories'): 420,\n",
    "    ('chicken',   'protein'):  32,\n",
    "    ('chicken',   'fat'):      10,\n",
    "    ('chicken',   'sodium'):   1190,\n",
    "    ('hot dog',   'calories'): 560,\n",
    "    ('hot dog',   'protein'):  20,\n",
    "    ('hot dog',   'fat'):      32,\n",
    "    ('hot dog',   'sodium'):   1800,\n",
    "    ('fries',     'calories'): 380,\n",
    "    ('fries',     'protein'):  4,\n",
    "    ('fries',     'fat'):      19,\n",
    "    ('fries',     'sodium'):   270,\n",
    "    ('macaroni',  'calories'): 320,\n",
    "    ('macaroni',  'protein'):  12,\n",
    "    ('macaroni',  'fat'):      10,\n",
    "    ('macaroni',  'sodium'):   930,\n",
    "    ('pizza',     'calories'): 320,\n",
    "    ('pizza',     'protein'):  15,\n",
    "    ('pizza',     'fat'):      12,\n",
    "    ('pizza',     'sodium'):   820,\n",
    "    ('salad',     'calories'): 320,\n",
    "    ('salad',     'protein'):  31,\n",
    "    ('salad',     'fat'):      12,\n",
    "    ('salad',     'sodium'):   1230,\n",
    "    ('milk',      'calories'): 100,\n",
    "    ('milk',      'protein'):  8,\n",
    "    ('milk',      'fat'):      2.5,\n",
    "    ('milk',      'sodium'):   125,\n",
    "    ('ice cream', 'calories'): 330,\n",
    "    ('ice cream', 'protein'):  8,\n",
    "    ('ice cream', 'fat'):      10,\n",
    "    ('ice cream', 'sodium'):   180}"
   ]
  },
  {
   "cell_type": "markdown",
   "metadata": {},
   "source": [
    "We use this data below when we define our optimization problem."
   ]
  },
  {
   "cell_type": "code",
   "execution_count": 3,
   "metadata": {},
   "outputs": [
    {
     "name": "stdout",
     "output_type": "stream",
     "text": [
      "Using license file C:\\Users\\lukec\\gurobi.lic\n",
      "Academic license - for non-commercial use only\n"
     ]
    }
   ],
   "source": [
    "# First, we define a variable that contains the optimization model\n",
    "m = gp.Model(\"diet1\")\n",
    "\n",
    "# Second, we add decision variables to the model that capture for each \n",
    "# food item the quantity bought\n",
    "buy = {}\n",
    "for f in foods:\n",
    "    buy[f] = m.addVar(name=f)\n",
    "\n",
    "# Third, we set our objective: minimizing the cost of the food\n",
    "m.setObjective(sum(buy[f]*cost[f] for f in foods), gp.GRB.MINIMIZE)\n",
    "\n",
    "# Fourth, we set constraints that enforce for each nutrition category\n",
    "# (calories, protein, fat, sodium) that we be in the feasible range\n",
    "for c in categories:\n",
    "    m.addRange(sum(nutritionValues[f, c] * buy[f] for f in foods), \n",
    "               # this sum captures the amount of each nutrient\n",
    "               minNutrition[c], # this is the lower bound (from the data)\n",
    "               maxNutrition[c], # this is the upper bound (from the data)\n",
    "               c) # this is the name for the constraint \n",
    "        # a name is not required but it is a good habit to \n",
    "        # give each variable/constraint a unique name\n",
    "# We could have written the constraints also by writing\n",
    "# m.addConstr(sum(nutritionValues[f, c] * buy[f] for f in foods) >= minNutrition[c])\n",
    "# and\n",
    "# m.addConstr(sum(nutritionValues[f, c] * buy[f] for f in foods) <= maxNutrition[c])\n",
    "# We will see situations below in which this notation is easier to write."
   ]
  },
  {
   "cell_type": "markdown",
   "metadata": {},
   "source": [
    "That's it. Probably that was not that hard, right? \n",
    "\n",
    "Now we can tell Gurobi to find us an optimal solution. When Gurobi solves, it gives us a lot of information that we may not care about (at least, not right now). So before solving, we define a function that ends up printing the interesting bits of the optimal solution for us."
   ]
  },
  {
   "cell_type": "code",
   "execution_count": 4,
   "metadata": {},
   "outputs": [],
   "source": [
    "def printSolution(m):\n",
    "    if m.status == gp.GRB.OPTIMAL:\n",
    "        buyx = m.getAttr('x', buy)\n",
    "        print('Cost: %g' %(sum(cost[f] * buyx[f] for f in foods)))\n",
    "        print('\\nNutrients:')\n",
    "        for c in categories:\n",
    "            print('%s %g'%(c, sum(buyx[f]*nutritionValues[f,c] for f in foods)))\n",
    "        print('\\nBuy:')\n",
    "        for f in foods:\n",
    "            if buy[f].x > 0.0001:\n",
    "                print('%s %g' % (f, buyx[f]))\n",
    "        \n",
    "    else:\n",
    "        print('No solution')"
   ]
  },
  {
   "cell_type": "code",
   "execution_count": 5,
   "metadata": {},
   "outputs": [
    {
     "name": "stdout",
     "output_type": "stream",
     "text": [
      "Gurobi Optimizer version 9.0.2 build v9.0.2rc0 (win64)\n",
      "Optimize a model with 4 rows, 12 columns and 39 nonzeros\n",
      "Model fingerprint: 0x33ddb849\n",
      "Coefficient statistics:\n",
      "  Matrix range     [1e+00, 2e+03]\n",
      "  Objective range  [9e-01, 3e+00]\n",
      "  Bounds range     [7e+01, 2e+03]\n",
      "  RHS range        [7e+01, 2e+03]\n",
      "Presolve removed 0 rows and 2 columns\n",
      "Presolve time: 0.04s\n",
      "Presolved: 4 rows, 10 columns, 37 nonzeros\n",
      "\n",
      "Iteration    Objective       Primal Inf.    Dual Inf.      Time\n",
      "       0    0.0000000e+00   1.472500e+02   0.000000e+00      0s\n",
      "       4    1.1828861e+01   0.000000e+00   0.000000e+00      0s\n",
      "\n",
      "Solved in 4 iterations and 0.06 seconds\n",
      "Optimal objective  1.182886111e+01\n"
     ]
    }
   ],
   "source": [
    "# Now we solve, and get a bunch of info we don't necessarily understand\n",
    "# If we want to stop gurobi from printing that info wee can add \n",
    "# m.setParam( 'OutputFlag', False ) to the code to stop Gurobi from printing\n",
    "m.optimize()"
   ]
  },
  {
   "cell_type": "code",
   "execution_count": 6,
   "metadata": {},
   "outputs": [
    {
     "name": "stdout",
     "output_type": "stream",
     "text": [
      "Cost: 11.8289\n",
      "\n",
      "Nutrients:\n",
      "calories 1800\n",
      "protein 91\n",
      "fat 59.0559\n",
      "sodium 1779\n",
      "\n",
      "Buy:\n",
      "hamburger 0.604514\n",
      "milk 6.97014\n",
      "ice cream 2.59132\n"
     ]
    }
   ],
   "source": [
    "# Now we print the interesting aspects of our solution:\n",
    "printSolution(m)"
   ]
  },
  {
   "cell_type": "markdown",
   "metadata": {},
   "source": [
    "I hope everything above has made sense. If not, feel free to reach out to any of the teaching staff for gurobi questions or to Valerie for python questions (or cc all of us). Below, we will try to set up a slightly different optimization problem. Now, rather than aiming to minimize cost, we try to build muscle, i.e., we need to maximize our protein intake.\n",
    "\n",
    "#### A) \n",
    "The cell below has most of the protein maximization model written out (same as above), with only the objective missing. Add the new objective to the optimization problem and have gurobi solve it."
   ]
  },
  {
   "cell_type": "code",
   "execution_count": 8,
   "metadata": {},
   "outputs": [
    {
     "name": "stdout",
     "output_type": "stream",
     "text": [
      "Gurobi Optimizer version 9.0.2 build v9.0.2rc0 (win64)\n",
      "Optimize a model with 4 rows, 12 columns and 39 nonzeros\n",
      "Model fingerprint: 0x039b585d\n",
      "Coefficient statistics:\n",
      "  Matrix range     [1e+00, 2e+03]\n",
      "  Objective range  [4e+00, 3e+01]\n",
      "  Bounds range     [7e+01, 2e+03]\n",
      "  RHS range        [7e+01, 2e+03]\n",
      "Presolve removed 0 rows and 2 columns\n",
      "Presolve time: 0.01s\n",
      "Presolved: 4 rows, 10 columns, 37 nonzeros\n",
      "\n",
      "Iteration    Objective       Primal Inf.    Dual Inf.      Time\n",
      "       0    2.1312500e+02   5.734416e+02   0.000000e+00      0s\n",
      "       3    1.0672516e+02   0.000000e+00   0.000000e+00      0s\n",
      "\n",
      "Solved in 3 iterations and 0.01 seconds\n",
      "Optimal objective  1.067251613e+02\n",
      "Cost: 13.2912\n",
      "\n",
      "Nutrients:\n",
      "calories 1800\n",
      "protein 106.725\n",
      "fat 48.5452\n",
      "sodium 1779\n",
      "\n",
      "Buy:\n",
      "milk 11.3148\n",
      "ice cream 2.02581\n"
     ]
    }
   ],
   "source": [
    "# First, we define a variable that contains the optimization model\n",
    "m = gp.Model(\"diet2\")\n",
    "\n",
    "# Second, we add decision variables to the model that capture for each \n",
    "# food item the quantity bought\n",
    "buy = {}\n",
    "for f in foods:\n",
    "    buy[f] = m.addVar(name=f)\n",
    "\n",
    "# Third, we set our objective: maximizing the amount of protein in our diet.\n",
    "m.setObjective(sum(buy[f]*nutritionValues[f,'protein'] for f in foods), gp.GRB.MAXIMIZE)\n",
    "\n",
    "# Fourth, we set constraints that enforce for each nutrition category \n",
    "# (calories, protein, fat, sodium) that we be in the feasible range\n",
    "for c in categories: # \n",
    "    m.addRange(sum(nutritionValues[f, c] * buy[f] for f in foods), # again: amount of each nutrient\n",
    "               minNutrition[c], # again: lower bound (from the data)\n",
    "               maxNutrition[c], # again: upper bound (from the data)\n",
    "               c) # name for constraint\n",
    "m.optimize()\n",
    "printSolution(m)"
   ]
  },
  {
   "cell_type": "markdown",
   "metadata": {},
   "source": [
    "#### B) \n",
    "Similar to part (A), we still want to maximize our protein intake. However, we now have an added budget constraint: our cost can be at most 12.5. Write out and solve this new optimization problem (you should be able to copy-paste the cell from question A, and add just one line with the new budget constraint)."
   ]
  },
  {
   "cell_type": "code",
   "execution_count": 9,
   "metadata": {},
   "outputs": [
    {
     "name": "stdout",
     "output_type": "stream",
     "text": [
      "Gurobi Optimizer version 9.0.2 build v9.0.2rc0 (win64)\n",
      "Optimize a model with 5 rows, 13 columns and 49 nonzeros\n",
      "Model fingerprint: 0x564e4180\n",
      "Coefficient statistics:\n",
      "  Matrix range     [9e-01, 2e+03]\n",
      "  Objective range  [4e+00, 3e+01]\n",
      "  Bounds range     [1e+01, 2e+03]\n",
      "  RHS range        [1e+01, 2e+03]\n",
      "Presolve removed 0 rows and 3 columns\n",
      "Presolve time: 0.01s\n",
      "Presolved: 5 rows, 10 columns, 46 nonzeros\n",
      "\n",
      "Iteration    Objective       Primal Inf.    Dual Inf.      Time\n",
      "       0    2.1312500e+02   6.103916e+02   0.000000e+00      0s\n",
      "       4    9.8216855e+01   0.000000e+00   0.000000e+00      0s\n",
      "\n",
      "Solved in 4 iterations and 0.01 seconds\n",
      "Optimal objective  9.821685513e+01\n",
      "Cost: 12.5\n",
      "\n",
      "Nutrients:\n",
      "calories 1800\n",
      "protein 98.2169\n",
      "fat 54.2321\n",
      "sodium 1779\n",
      "\n",
      "Buy:\n",
      "hamburger 0.32708\n",
      "milk 8.96408\n",
      "ice cream 2.33178\n"
     ]
    }
   ],
   "source": [
    "# First, we define a variable that contains the optimization model\n",
    "m = gp.Model(\"diet3\")\n",
    "\n",
    "# Second, we add decision variables to the model that capture for each \n",
    "# food item the quantity bought\n",
    "buy = {}\n",
    "for f in foods:\n",
    "    buy[f] = m.addVar(name=f)\n",
    "\n",
    "# Third, we set our objective as in part A: maximizing the amount of protein in our diet.\n",
    "m.setObjective(sum(buy[f]*nutritionValues[f,'protein'] for f in foods), gp.GRB.MAXIMIZE)\n",
    "\n",
    "# Fourth, we set constraints that enforce for each nutrition category\n",
    "# (calories, protein, fat, sodium) that we be in the feasible range\n",
    "for c in categories: # \n",
    "    m.addRange(sum(nutritionValues[f, c] * buy[f] for f in foods), # again: amount of each nutrient\n",
    "               minNutrition[c], # this is the lower bound (from the data)\n",
    "               maxNutrition[c], # this is the upper bound (from the data)\n",
    "               c) # this is the name for the constraint\n",
    "\n",
    "# Finally, you need to add a constraint that bounds the cost of items bought by 12.5\n",
    "m.addRange(sum(buy[f]*cost[f] for f in foods), 0, 12.5, \"cost\")\n",
    "    \n",
    "m.optimize()\n",
    "printSolution(m)"
   ]
  },
  {
   "cell_type": "markdown",
   "metadata": {},
   "source": [
    "#### C)\n",
    "\n",
    "Explain in words why the protein we get is lower in question B than it was in question A. Can you identify the budget we need to consume the maximum amount of protein? (either implement this, or just explain how you would do it)"
   ]
  },
  {
   "cell_type": "markdown",
   "metadata": {},
   "source": [
    "Answer C):\n",
    "\n",
    ".The protein was lower in question B because we added an additional constraint which restricted the cost to \\\\$12.50. This forced us to shuffle the food source from question A (total cost = \\\\$13.29) to not exceed \\\\$12.50 while not violating any other constraints.\n",
    "\n",
    ".The maximum protein was found in question A. The budget associated with question A was \\\\$13.29.\n",
    "\n",
    "."
   ]
  },
  {
   "cell_type": "markdown",
   "metadata": {},
   "source": [
    "#### Problem 2\n",
    "\n",
    "Consider the following problem Amazon may face (let's not kid ourselves: the variation Amazon faces is 100x more complex; but this is a simplified version): they have 4 different suppliers that each have some amount of inventory of a particular SKU. They also have 9 different orders for that SKU with individual fulfillment centers asking for one shipment of that SKU. Given the costs of shipping from each supplier to each fulfillment center, decide which supplier should ship to which fulfillment center, such that the resulting shipping costs are minimized."
   ]
  },
  {
   "cell_type": "code",
   "execution_count": 17,
   "metadata": {},
   "outputs": [
    {
     "name": "stdout",
     "output_type": "stream",
     "text": [
      "Gurobi Optimizer version 9.0.2 build v9.0.2rc0 (win64)\n",
      "Optimize a model with 13 rows, 40 columns and 76 nonzeros\n",
      "Model fingerprint: 0x2980c368\n",
      "Coefficient statistics:\n",
      "  Matrix range     [1e+00, 1e+00]\n",
      "  Objective range  [1e+00, 8e+00]\n",
      "  Bounds range     [2e+00, 4e+00]\n",
      "  RHS range        [1e+00, 4e+00]\n",
      "Presolve removed 0 rows and 4 columns\n",
      "Presolve time: 0.01s\n",
      "Presolved: 13 rows, 36 columns, 72 nonzeros\n",
      "\n",
      "Iteration    Objective       Primal Inf.    Dual Inf.      Time\n",
      "       0    2.1000000e+01   2.000000e+00   0.000000e+00      0s\n",
      "       3    2.4000000e+01   0.000000e+00   0.000000e+00      0s\n",
      "\n",
      "Solved in 3 iterations and 0.01 seconds\n",
      "Optimal objective  2.400000000e+01\n"
     ]
    }
   ],
   "source": [
    "# Define supplier inventories\n",
    "supplier_inventories = {'w1': 4, 'w2': 3, 'w3': 2, 'w4':3}\n",
    "# the dictionary below holds the cost of shipping from each supplier to each center.\n",
    "# We assume that the shipment costs are linear in the amount shipped,\n",
    "supplier_center_cost = {'w1': [3, 5, 6, 2, 4, 6, 3, 6, 4],\n",
    "                           'w2': [6, 5, 8, 3, 5, 6, 3, 5, 2],\n",
    "                           'w3': [3, 5, 3, 2, 4, 7, 3, 6, 4],\n",
    "                           'w4': [1, 4, 1, 4, 1, 8, 5, 1, 3]}\n",
    "# e.g., the cost of one shipment from supplier 'w1' to the first center is 3\n",
    "# whereas the cost of half a shipment from supplier 'w3' to the final center is 1/2*4=2\n",
    "m = gp.Model(\"shipping\")\n",
    "shipments = {}\n",
    "\n",
    "# Define decision variables to indicate for each supplier/center how much is shipped\n",
    "for w in supplier_inventories:\n",
    "    for center in range(9):\n",
    "        shipments[(w,center)] = m.addVar(name=str((w,center)))\n",
    "        \n",
    "# Next, we set our objective: minimizing the cost of all shipments\n",
    "m.setObjective(sum(shipments[(w,center)]*supplier_center_cost[w][center] for w in supplier_inventories for center in range(9)), gp.GRB.MINIMIZE)\n",
    "\n",
    "# Set a constraint that the amount of inventory shipped from a given supplier is at most its inventory\n",
    "for w in supplier_inventories:\n",
    "    m.addRange(sum(shipments[(w,center)] for center in range(9)), 0, supplier_inventories[w], w)\n",
    "    \n",
    "# Set a constraint that each center receives one shipment of inventory\n",
    "for center in range(9):\n",
    "    m.addConstr(sum(shipments[(w,center)] for w in supplier_inventories) == 1)\n",
    "    \n",
    "    \n",
    "m.optimize()"
   ]
  },
  {
   "cell_type": "markdown",
   "metadata": {},
   "source": [
    "Below we print for each center the supplier from which the shipment ias made"
   ]
  },
  {
   "cell_type": "code",
   "execution_count": 18,
   "metadata": {},
   "outputs": [
    {
     "name": "stdout",
     "output_type": "stream",
     "text": [
      "w1 0 3\n",
      "w3 1 5\n",
      "w4 2 1\n",
      "w1 3 2\n",
      "w4 4 1\n",
      "w1 5 6\n",
      "w1 6 3\n",
      "w4 7 1\n",
      "w2 8 2\n"
     ]
    }
   ],
   "source": [
    "for center in range(9):\n",
    "    for w in supplier_inventories:\n",
    "        if shipments[w,center].x>0: print(w, center, supplier_center_cost[w][center])"
   ]
  },
  {
   "cell_type": "markdown",
   "metadata": {},
   "source": [
    "#### Problem 3\n",
    "\n",
    "In this question we need to decide on a production schedule for a factory. The factory is tasked with producing 3 different goods, and it has 3 different machines; each machine can be tasked to work on any of the goods, but machines are faster at producing some goods than they are at others. Our goal is to minimize the time until all our orders are fulfilled.\n",
    "\n",
    "In the cell below we provide you with the data for the problem:"
   ]
  },
  {
   "cell_type": "code",
   "execution_count": 21,
   "metadata": {},
   "outputs": [],
   "source": [
    "# we have products 'p1', 'p2', 'p3', and we need to\n",
    "# produce (respectively) 100, 200, 400 units of each\n",
    "product_demand = {'p1': 100, 'p2': 200, 'p3': 400}\n",
    "machines = ['m1', 'm2', 'm3']\n",
    "# we have three machines, 'm1', 'm2', and 'm3' and\n",
    "# the number of products of each type that can be produced\n",
    "# by each of the machines is given in the dictionary below\n",
    "machine_speed = {('m1','p1'):2, ('m1','p2'):1, ('m1','p3'):3,\n",
    "                 ('m2','p1'):2, ('m2','p2'):2, ('m2','p3'):4.5,\n",
    "                 ('m3','p1'):2, ('m3','p2'):3, ('m3','p3'):4}\n",
    "# e.g., machine 'm1' can produce 2 units of type 'p1' but only\n",
    "# 1 unit of type 'p2' per hour"
   ]
  },
  {
   "cell_type": "markdown",
   "metadata": {},
   "source": [
    "Hint: In setting up your optimization problem it will be useful to define 10 different variables: 9 for each pair of machine and product (\"how many hours does machine i spend on product j?\"), and 1 for the objective (\"what is the maximum time any of the machines is working?\"), which we refer to as makespan."
   ]
  },
  {
   "cell_type": "code",
   "execution_count": 27,
   "metadata": {},
   "outputs": [
    {
     "name": "stdout",
     "output_type": "stream",
     "text": [
      "Gurobi Optimizer version 9.0.2 build v9.0.2rc0 (win64)\n",
      "Optimize a model with 6 rows, 10 columns and 21 nonzeros\n",
      "Model fingerprint: 0x3dfcf0e0\n",
      "Coefficient statistics:\n",
      "  Matrix range     [1e+00, 5e+00]\n",
      "  Objective range  [1e+00, 1e+00]\n",
      "  Bounds range     [0e+00, 0e+00]\n",
      "  RHS range        [1e+02, 4e+02]\n",
      "Presolve removed 1 rows and 1 columns\n",
      "Presolve time: 0.01s\n",
      "Presolved: 5 rows, 9 columns, 21 nonzeros\n",
      "\n",
      "Iteration    Objective       Primal Inf.    Dual Inf.      Time\n",
      "       0    0.0000000e+00   1.500000e+02   0.000000e+00      0s\n",
      "       5    7.1014493e+01   0.000000e+00   0.000000e+00      0s\n",
      "\n",
      "Solved in 5 iterations and 0.01 seconds\n",
      "Optimal objective  7.101449275e+01\n",
      "The optimal schedule is:\n",
      "Machine m1 works on product p1 for 50 hours, producing 100 units\n",
      "Machine m1 works on product p3 for 21.0145 hours, producing 63.0435 units\n",
      "Machine m2 works on product p3 for 71.0145 hours, producing 319.565 units\n",
      "Machine m3 works on product p2 for 66.6667 hours, producing 200 units\n",
      "Machine m3 works on product p3 for 4.34783 hours, producing 17.3913 units\n"
     ]
    }
   ],
   "source": [
    "m = gp.Model(\"production_schedule\")\n",
    "\n",
    "time_spent = {}\n",
    "# First add a decision variable capturing the time each machine spends on each product\n",
    "for machine,p in machine_speed:\n",
    "    time_spent[(machine,p)] =  m.addVar(name = str((machine,p)))\n",
    "# Next, add constraints to ensure we spend enough time (by respective machines) on \n",
    "# each product so that enough units of each products are completed\n",
    "for p in product_demand:\n",
    "        m.addConstr(sum(machine_speed[(machine,p)]*time_spent[(machine,p)] for machine in machines) >= product_demand[p])\n",
    "    \n",
    "makespan = m.addVar(lb=0)   # makespan will be the objective, the maximum time any\n",
    "                            # machine works in total. Notice that lb is the lower bound\n",
    "                            # on a variable, so we do not allow the makespan to be negative\n",
    "\n",
    "# Add a constraint that the makespan variable is no less than the time each \n",
    "# machine spends individually\n",
    "for machine in ['m1', 'm2', 'm3']:\n",
    "        m.addConstr(sum(time_spent[(machine,p)] for p in product_demand) <= makespan)\n",
    "        \n",
    "# Finally, set the objective to be the minimization of the makespan. \n",
    "m.setObjective(makespan, gp.GRB.MINIMIZE)\n",
    "\n",
    "# Since we have only constrained the makespan to be bounded below by the time spent by any \n",
    "# of 'm1', 'm2', 'm3' (and nothing else), and since the objective should minimize the \n",
    "# makespan, the optimal  solution will have the makespan be equal to the maximum of \n",
    "# time spent by any of the machines. Specifically, there is no reason (constraint) \n",
    "# forcing the makespan variable to be any larger than the maximum total time spent, \n",
    "# and the minimization objective is \"pushing\" it down until one of the inequalities \n",
    "# holds with equality.\n",
    "\n",
    "\n",
    "m.optimize()\n",
    "\n",
    "print(\"The optimal schedule is:\")\n",
    "for x in time_spent:\n",
    "    if time_spent[x].x>0:\n",
    "        print(\"\"\"Machine %s works on product %s for %g hours, producing %g units\"\"\"%(x[0], \n",
    "                                            x[1], time_spent[x].x, \n",
    "                                            machine_speed[x]*time_spent[x].x))"
   ]
  },
  {
   "cell_type": "markdown",
   "metadata": {},
   "source": [
    "#### Problem 4\n",
    "\n",
    "The next question is based on a problem I (DF) myself consulted on. The industry partner I worked with operates a large online platform with millions of transactions every day. In order to process all the payments, the company partners with 2 different financial providers. In a nutshell, the providers have different cost structures for processing each payment. The goal of this optimization problem is to decide which payments to send to which provider.\n",
    "\n",
    "- Provider A charges a proportional fee that is 2\\% of the cost of the transaction, and requires the average payment routed to them to have a transaction value of at least 8\\$\n",
    "- Provider B charges a fixed fee of \\$.20 per payment\n",
    "\n",
    "Below is a skeleton of a linear program that decides for each transaction which provider to send it to. Fill in the objective and the constraint (for provider A)."
   ]
  },
  {
   "cell_type": "code",
   "execution_count": 28,
   "metadata": {},
   "outputs": [],
   "source": [
    "# The list below has all transactions for one day.\n",
    "Transactions = [5, 10, 14, 20, 6, 12, 16, 10, 8, 9, 12, 15]\n",
    "num_transactions = len(Transactions)"
   ]
  },
  {
   "cell_type": "code",
   "execution_count": 33,
   "metadata": {},
   "outputs": [
    {
     "name": "stdout",
     "output_type": "stream",
     "text": [
      "Gurobi Optimizer version 9.0.2 build v9.0.2rc0 (win64)\n",
      "Optimize a model with 1 rows, 12 columns and 11 nonzeros\n",
      "Model fingerprint: 0x4bcc0bda\n",
      "Coefficient statistics:\n",
      "  Matrix range     [1e+00, 1e+01]\n",
      "  Objective range  [2e-02, 2e-01]\n",
      "  Bounds range     [1e+00, 1e+00]\n",
      "  RHS range        [0e+00, 0e+00]\n",
      "Presolve removed 1 rows and 12 columns\n",
      "Presolve time: 0.00s\n",
      "Presolve: All rows and columns removed\n",
      "Iteration    Objective       Primal Inf.    Dual Inf.      Time\n",
      "       0    2.1600000e+00   0.000000e+00   0.000000e+00      0s\n",
      "\n",
      "Solved in 0 iterations and 0.00 seconds\n",
      "Optimal objective  2.160000000e+00\n"
     ]
    }
   ],
   "source": [
    "# First, we define a variable that contains the optimization model\n",
    "m = gp.Model(\"transactions\")\n",
    "\n",
    "# Second, we add decision variables that capture for each \n",
    "# transaction which provider we send it to. A good way of doing this is\n",
    "# by creating a variable that is either 0 or 1, where 0 indicates it is being \n",
    "# sent to A and 1 indicates it is being sent to B.\n",
    "provider = {}\n",
    "for k in range(num_transactions):\n",
    "    provider[k] = m.addVar(lb=0,ub=1)\n",
    "    \n",
    "# Third, you need to add a constraint that ensures that the average value \n",
    "# of transactions sent to provider A is at least $8. This is tricky!\n",
    "m.addConstr(sum(Transactions[k]*provider[k] for k in range(num_transactions)) >= 8*sum(provider.values()))\n",
    "\n",
    "# Last, define the objective. This is also not so easy:\n",
    "# You want a term for each provider that contributes \n",
    "# .02*transactions[k] if provider[k]=1 and .2 if provider[k]=0\n",
    "\n",
    "m.setObjective(sum(.02*Transactions[k]*provider[k] for k in range(num_transactions) + (0.2*(num_transactions - sum(provider.values()))), gp.GRB.MINIMIZE)\n",
    "\n",
    "m.optimize()"
   ]
  },
  {
   "cell_type": "markdown",
   "metadata": {},
   "source": [
    "#### Problem 5\n",
    "\n",
    "In this problem we try to find the optimal schedule of workers to different shifts in a store. Suppose our store is open 24/7, and the number of workers needed to staff the store is given below."
   ]
  },
  {
   "cell_type": "code",
   "execution_count": 3,
   "metadata": {},
   "outputs": [],
   "source": [
    "staff_required = {0: 8, 1: 8, 2: 9, 3: 8, 4: 8, 5: 9, \n",
    "                  6: 10, 7: 12, 8: 12, 9: 12, 10: 10, \n",
    "                  11: 10, 12: 12, 13: 12, 14: 10, 15: 10,\n",
    "                  16: 9, 17: 10, 18: 12, 19: 12, 20: 12,\n",
    "                  21: 10, 22: 9, 23: 8}"
   ]
  },
  {
   "cell_type": "markdown",
   "metadata": {},
   "source": [
    "A worker scheduled to show up at a given time, stays for 4h. Find the number of workers to show up at each hour of the day that minimizes the total number of workers that need are needed over the course of the day while fulfilling the staff needs above.\n",
    "\n",
    "Hint: the python function \\% may be useful in coding up the constraints!"
   ]
  },
  {
   "cell_type": "code",
   "execution_count": 5,
   "metadata": {},
   "outputs": [
    {
     "name": "stdout",
     "output_type": "stream",
     "text": [
      "Gurobi Optimizer version 9.0.2 build v9.0.2rc0 (win64)\n",
      "Optimize a model with 24 rows, 24 columns and 96 nonzeros\n",
      "Model fingerprint: 0x7e92d4fd\n",
      "Coefficient statistics:\n",
      "  Matrix range     [1e+00, 1e+00]\n",
      "  Objective range  [1e+00, 1e+00]\n",
      "  Bounds range     [0e+00, 0e+00]\n",
      "  RHS range        [8e+00, 1e+01]\n",
      "Presolve time: 0.00s\n",
      "Presolved: 24 rows, 24 columns, 96 nonzeros\n",
      "\n",
      "Iteration    Objective       Primal Inf.    Dual Inf.      Time\n",
      "       0    0.0000000e+00   2.420000e+02   0.000000e+00      0s\n",
      "      22    6.1000000e+01   0.000000e+00   0.000000e+00      0s\n",
      "\n",
      "Solved in 22 iterations and 0.01 seconds\n",
      "Optimal objective  6.100000000e+01\n"
     ]
    }
   ],
   "source": [
    "# First, we define a variable that contains the optimization model\n",
    "m = gp.Model(\"transactions\")\n",
    "\n",
    "# Second, let's create one variable for each hour in which a shift can start\n",
    "starts = {}\n",
    "for k in range(24):\n",
    "    starts[k] = m.addVar(name = str(k))\n",
    "# Third, define the objective: the total number of workers needed\n",
    "\n",
    "m.setObjective(sum(starts.values()), gp.GRB.MINIMIZE)\n",
    "    \n",
    "# Fourth, add a constraint for each hour that ensures that sufficiently\n",
    "# many workers are scheduled to work at that hour.\n",
    "for k in range(24):\n",
    "    m.addConstr(sum(starts[(k-n)%24] for n in [0,1,2,3]) >= staff_required[k])\n",
    "    \n",
    "m.optimize()"
   ]
  },
  {
   "cell_type": "code",
   "execution_count": 6,
   "metadata": {},
   "outputs": [
    {
     "name": "stdout",
     "output_type": "stream",
     "text": [
      "0 7.0 8\n",
      "1 0.0 8\n",
      "2 2.0 9\n",
      "3 0.0 8\n",
      "4 6.0 8\n",
      "5 1.0 9\n",
      "6 4.0 10\n",
      "7 1.0 12\n",
      "8 6.0 12\n",
      "9 1.0 12\n",
      "10 2.0 10\n",
      "11 1.0 10\n",
      "12 8.0 12\n",
      "13 1.0 12\n",
      "14 0.0 10\n",
      "15 1.0 10\n",
      "16 7.0 9\n",
      "17 2.0 10\n",
      "18 2.0 12\n",
      "19 1.0 12\n",
      "20 7.0 12\n",
      "21 0.0 10\n",
      "22 1.0 9\n",
      "23 0.0 8\n"
     ]
    }
   ],
   "source": [
    "for k in range(len(starts)): print(k, starts[k].x, staff_required[k])"
   ]
  },
  {
   "cell_type": "code",
   "execution_count": null,
   "metadata": {},
   "outputs": [],
   "source": []
  }
 ],
 "metadata": {
  "kernelspec": {
   "display_name": "Python 3",
   "language": "python",
   "name": "python3"
  },
  "language_info": {
   "codemirror_mode": {
    "name": "ipython",
    "version": 3
   },
   "file_extension": ".py",
   "mimetype": "text/x-python",
   "name": "python",
   "nbconvert_exporter": "python",
   "pygments_lexer": "ipython3",
   "version": "3.7.6"
  }
 },
 "nbformat": 4,
 "nbformat_minor": 4
}
