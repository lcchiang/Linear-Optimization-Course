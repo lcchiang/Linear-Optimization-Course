{
 "cells": [
  {
   "cell_type": "markdown",
   "metadata": {},
   "source": [
    "## HW4 - Dynamic Programming and Uncertainty\n",
    "\n",
    "In this final homework assignment you will be asked to solve 2 problems using dynamic programming. In the first, we will focus on a completely static offline problem. In the second, we will use both dynamic programming and some of the ideas we learned about in our 1-lecture simulation unit."
   ]
  },
  {
   "cell_type": "code",
   "execution_count": 2,
   "metadata": {},
   "outputs": [],
   "source": [
    "import numpy as np\n",
    "import matplotlib.pyplot as plt"
   ]
  },
  {
   "cell_type": "markdown",
   "metadata": {},
   "source": [
    "#### Problem 1: Checkerboard\n",
    "\n",
    "Consider the following problem. You are at the bottom-left corner of a chessboard (\"A1\"). Each field on the board has a value. The value of a field is stored in the dictionary \"values\" defined in the cell below. For each field you visit, you collect the value of that field; hwowever, you are only allowed to move \"up\" or \"right\" (e.g., from \"A1\" to \"B1\" or from \"A1\" to \"A2\"). Find the maximum value you can collect as you move from \"A1\" eventually to \"H8\"? What sequence of fields to visit will yield that value?\n",
    "\n",
    "(An optimal solution should yield 1111 in value)"
   ]
  },
  {
   "cell_type": "code",
   "execution_count": 2,
   "metadata": {},
   "outputs": [],
   "source": [
    "values = {('A', 1): 87, ('A', 2): 6, ('A', 3): 81, ('A', 4): 89, ('A', 5): 99, ('A', 6): 8, ('A', 7): 47,\n",
    " ('A', 8): 81, ('B', 1): 18, ('B', 2): 17, ('B', 3): 50, ('B', 4): 66, ('B', 5): 91, ('B', 6): 47, ('B', 7): 98,\n",
    " ('B', 8): 55, ('C', 1): 21, ('C', 2): 1, ('C', 3): 16, ('C', 4): 9, ('C', 5): 70, ('C', 6): 96, ('C', 7): 93,\n",
    " ('C', 8): 34, ('D', 1): 19, ('D', 2): 63, ('D', 3): 52, ('D', 4): 74, ('D', 5): 50, ('D', 6): 5, ('D', 7): 90,\n",
    " ('D', 8): 45, ('E', 1): 35, ('E', 2): 3, ('E', 3): 30, ('E', 4): 43, ('E', 5): 62, ('E', 6): 57, ('E', 7): 20,\n",
    " ('E', 8): 54, ('F', 1): 51, ('F', 2): 70, ('F', 3): 70, ('F', 4): 49, ('F', 5): 20, ('F', 6): 8, ('F', 7): 5,\n",
    " ('F', 8): 92, ('G', 1): 70, ('G', 2): 79, ('G', 3): 21, ('G', 4): 86, ('G', 5): 42, ('G', 6): 76, ('G', 7): 67,\n",
    " ('G', 8): 33, ('H', 1): 1, ('H', 2): 26, ('H', 3): 78, ('H', 4): 53, ('H', 5): 39, ('H', 6): 73, ('H', 7): 24,\n",
    " ('H', 8): 85}"
   ]
  },
  {
   "cell_type": "markdown",
   "metadata": {},
   "source": [
    "Hint: When at field \"H8\" you get a value of 85, but will not receive any more from moving. At field \"H7\" you receive 24, and you will have to move to \"H8\" next getting you another 85. At \"G7\" you get 67, and you get the better of moving to \"G8\" (33) and then to \"H8\" or to \"H7\" (24) and then to \"H8\". How much value will you collect in the remaining path starting from \"G7\"?"
   ]
  },
  {
   "cell_type": "code",
   "execution_count": 5,
   "metadata": {},
   "outputs": [
    {
     "name": "stdout",
     "output_type": "stream",
     "text": [
      "optimal answer = 1111\n",
      "Optimal Path = [('A', 1), ('A', 2), ('A', 3), ('A', 4), ('A', 5), ('B', 5), ('C', 5), ('C', 6), ('C', 7), ('D', 7), ('D', 8), ('E', 8), ('F', 8), ('G', 8), ('H', 8)]\n"
     ]
    }
   ],
   "source": [
    "# Gathering letter and number combo's\n",
    "letters = []\n",
    "numbers = []\n",
    "for square in values:\n",
    "    if square[0] not in letters:\n",
    "        letters.append(square[0])\n",
    "    if square[1] not in numbers:\n",
    "        numbers.append(square[1])\n",
    "letters.sort()\n",
    "numbers.sort()\n",
    "        \n",
    "        \n",
    "# Creating blank copy to map the optimal values\n",
    "opt_val = {}\n",
    "for char in letters:\n",
    "    for num in numbers:\n",
    "        opt_val[char,num] = 0\n",
    "\n",
    "# filling right most column and bottom most row\n",
    "previous_val = 0\n",
    "for char in reversed(letters):\n",
    "    opt_val[(char,numbers[-1])] = previous_val + values[(char,numbers[-1])]\n",
    "    previous_val = opt_val[(char,numbers[-1])]\n",
    "    \n",
    "previous_val = 0\n",
    "for num in reversed(numbers):\n",
    "    opt_val[(letters[-1],num)] = previous_val + values[(letters[-1],num)]\n",
    "    previous_val = opt_val[(letters[-1],num)]\n",
    "    \n",
    "# Filling rest of opt_val matrix\n",
    "for char in range(len(letters)-1,-1,-1):\n",
    "    for num in range(len(numbers)-1,-1,-1):\n",
    "        if opt_val[(letters[char],numbers[num])] == 0:\n",
    "            opt_val[(letters[char],numbers[num])] = values[(letters[char],numbers[num])] + max(opt_val[(letters[char+1],numbers[num])],opt_val[(letters[char],numbers[num+1])])\n",
    "print('optimal answer =', opt_val[(letters[0],numbers[0])])\n",
    "\n",
    "\n",
    "opt_path = []\n",
    "# Find next optimal path\n",
    "def next_optimal_pos(char,num):\n",
    "    pos = (letters[char],numbers[num])\n",
    "    opt_path.append(pos)\n",
    "    if pos == (letters[-1],numbers[-1]):\n",
    "        print('Optimal Path =',opt_path)\n",
    "        return\n",
    "    \n",
    "    if char == (len(letters)-1):\n",
    "        return next_optimal_pos(char,num+1)\n",
    "    if num == (len(numbers)-1):\n",
    "        return next_optimal_pos(char+1,num)\n",
    "    \n",
    "    opt_1 = (letters[char+1],numbers[num])\n",
    "    opt_2 = (letters[char],numbers[num+1])\n",
    "    if opt_val[opt_1] > opt_val[opt_2]:\n",
    "        return next_optimal_pos(char+1,num)\n",
    "    else:\n",
    "        return next_optimal_pos(char,num+1)\n",
    "\n",
    "# Finding optimal path\n",
    "next_optimal_pos(0,0)"
   ]
  },
  {
   "cell_type": "markdown",
   "metadata": {},
   "source": [
    "#### Problem 2: Secretary problem (implement solution from class)\n",
    "\n",
    "In class we saw the secretary problem, in which the CEO's goal was to maximize the expected score of the candidate. We saw the intuition then of what a solution should look like: she should accept in round $t$ if (in expectation) the remaining $t-1$ candidates will not be better. Use dynamic programming and simulation to identify the threshold for accepting with $t$ candidates remaining for $t=1,2,3,4,5$.\n",
    "\n",
    "Hint: the cell below creates 100,000 samples of 5 random secretary arrivals. Use those to estimate (for a given threshold) the expected quality of the last arrival. You'd want to accept the second-to-last if he is better than that expected quality. You can also use these arrivals to estimate the probability that the second-to-last arrival would be better than the expected quality, and use those 2 together to determine the expected quality the CEO will get out of the last 2 combined, which you can then use for the third-to-last (and so forth)..."
   ]
  },
  {
   "cell_type": "code",
   "execution_count": 5,
   "metadata": {},
   "outputs": [],
   "source": [
    "arrivals = {}\n",
    "for k in range(10**5):\n",
    "    arrivals[k] = np.random.randint(0,101,5)"
   ]
  },
  {
   "cell_type": "code",
   "execution_count": 6,
   "metadata": {},
   "outputs": [
    {
     "name": "stdout",
     "output_type": "stream",
     "text": [
      "Round 1 threshold = 74.36928269349737\n",
      "Round 2 threshold = 69.75417409009842\n",
      "Round 3 threshold = 62.776451083413264\n",
      "Round 4 threshold = 50.028144\n"
     ]
    }
   ],
   "source": [
    "thresholds = {}\n",
    "for num in range(len(arrivals[0])-1,0,-1):\n",
    "    exp_score = 0\n",
    "    count = 0\n",
    "    if num == len(arrivals[0])-1:\n",
    "        for trial in arrivals.values():\n",
    "            for score in trial:\n",
    "                exp_score += score\n",
    "                count += 1\n",
    "        exp_score = exp_score/count\n",
    "        thresholds[num] = exp_score\n",
    "    else:\n",
    "        for trial in arrivals.values():\n",
    "            for score in trial:\n",
    "                if score > thresholds[num+1]:\n",
    "                    exp_score += score\n",
    "                    count += 1\n",
    "        exp_score = exp_score/count\n",
    "        prob = (100 - thresholds[num+1])/100\n",
    "        thresholds[num] = prob*exp_score + (1-prob)*thresholds[num+1]\n",
    "\n",
    "for num in range(1,len(arrivals[0])):\n",
    "        print('Round', num, 'threshold =', thresholds[num])"
   ]
  },
  {
   "cell_type": "markdown",
   "metadata": {},
   "source": [
    "Next, repeat the above, but rather than assuming that the quality score of each candidate is uniform between 0 and 100, assume it is normally distributed with mean 500 and standard deviation 20 (if you did the above right, this should only require a change in one line)."
   ]
  },
  {
   "cell_type": "code",
   "execution_count": 7,
   "metadata": {},
   "outputs": [],
   "source": [
    "from scipy.stats import norm\n",
    "\n",
    "arrivals = {}\n",
    "for k in range(10**5):\n",
    "    arrivals[k] = np.random.normal(500,20,5)"
   ]
  },
  {
   "cell_type": "code",
   "execution_count": 8,
   "metadata": {},
   "outputs": [
    {
     "name": "stdout",
     "output_type": "stream",
     "text": [
      "Round 1 threshold = 525.5697352197176\n",
      "Round 2 threshold = 516.6791833348419\n",
      "Round 3 threshold = 507.92806369445145\n",
      "Round 4 threshold = 499.9582886129888\n"
     ]
    }
   ],
   "source": [
    "thresholds = {}\n",
    "for num in range(len(arrivals[0])-1,0,-1):\n",
    "    exp_score = 0\n",
    "    count = 0\n",
    "    if num == len(arrivals[0])-1:\n",
    "        for trial in arrivals.values():\n",
    "            for score in trial:\n",
    "                exp_score += score\n",
    "                count += 1\n",
    "        exp_score = exp_score/count\n",
    "        thresholds[num] = exp_score\n",
    "    else:\n",
    "        for trial in arrivals.values():\n",
    "            for score in trial:\n",
    "                if score > thresholds[num+1]:\n",
    "                    exp_score += score\n",
    "                    count += 1\n",
    "        exp_score = exp_score/count\n",
    "        prob = norm.cdf((thresholds[num+1]-500)/20)\n",
    "        thresholds[num] = prob*exp_score + (1-prob)*thresholds[num+1]\n",
    "\n",
    "for num in range(1,len(arrivals[0])):\n",
    "        print('Round', num, 'threshold =', thresholds[num])"
   ]
  },
  {
   "cell_type": "code",
   "execution_count": null,
   "metadata": {},
   "outputs": [],
   "source": []
  }
 ],
 "metadata": {
  "kernelspec": {
   "display_name": "Python 3",
   "language": "python",
   "name": "python3"
  },
  "language_info": {
   "codemirror_mode": {
    "name": "ipython",
    "version": 3
   },
   "file_extension": ".py",
   "mimetype": "text/x-python",
   "name": "python",
   "nbconvert_exporter": "python",
   "pygments_lexer": "ipython3",
   "version": "3.7.6"
  }
 },
 "nbformat": 4,
 "nbformat_minor": 2
}
